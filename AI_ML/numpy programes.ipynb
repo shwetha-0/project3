{
 "cells": [
  {
   "cell_type": "code",
   "execution_count": 2,
   "id": "b9e514f5",
   "metadata": {},
   "outputs": [
    {
     "name": "stdout",
     "output_type": "stream",
     "text": [
      "sum of array element is  11\n",
      "min of array is 2\n",
      "max array is  6\n",
      "mean of array is 3.6666666666666665\n",
      "median if array elemnet is  3.0\n",
      "correaltion coefficiant of array element is 1.0\n",
      "standard deviation of array elemtn is 1.699673171197595\n"
     ]
    }
   ],
   "source": [
    "import numpy as np\n",
    "a=[6,3,2,]\n",
    "sum=np.sum(a)\n",
    "print(\"sum of array element is \",sum)\n",
    "min=np.min(a)\n",
    "print(\"min of array is\",min)\n",
    "max=np.max(a)\n",
    "print(\"max array is \",max)\n",
    "mean=np.mean(a)\n",
    "print(\"mean of array is\",mean)\n",
    "med=np.median(a)\n",
    "print(\"median if array elemnet is \",med)\n",
    "cor=np.corrcoef(a)\n",
    "print(\"correaltion coefficiant of array element is\",cor)\n",
    "std=np.std(a)\n",
    "print(\"standard deviation of array elemtn is\",std)\n",
    "\n",
    "      "
   ]
  },
  {
   "cell_type": "code",
   "execution_count": 3,
   "id": "21f104aa",
   "metadata": {},
   "outputs": [
    {
     "name": "stdout",
     "output_type": "stream",
     "text": [
      "sum of array element is  57\n",
      "min of array is 2\n",
      "max array is  9\n",
      "mean of array is 6.333333333333333\n",
      "median if array elemnet is  6.0\n",
      "correaltion coefficiant of array element is [[ 1.         -0.07509393  0.1076244 ]\n",
      " [-0.07509393  1.         -0.99946643]\n",
      " [ 0.1076244  -0.99946643  1.        ]]\n",
      "standard deviation of array elemtn is 2.449489742783178\n"
     ]
    }
   ],
   "source": [
    "mat=[[4,8,9],[6,9,4],[6,2,9]]\n",
    "sum=np.sum(mat)\n",
    "print(\"sum of array element is \",sum)\n",
    "min=np.min(mat)\n",
    "print(\"min of array is\",min)\n",
    "max=np.max(mat)\n",
    "print(\"max array is \",max)\n",
    "mean=np.mean(mat)\n",
    "print(\"mean of array is\",mean)\n",
    "med=np.median(mat)\n",
    "print(\"median if array elemnet is \",med)\n",
    "cor=np.corrcoef(mat)\n",
    "print(\"correaltion coefficiant of array element is\",cor)\n",
    "std=np.std(mat)\n",
    "print(\"standard deviation of array elemtn is\",std)\n",
    "\n",
    "      \n"
   ]
  },
  {
   "cell_type": "code",
   "execution_count": 7,
   "id": "a05b553f",
   "metadata": {},
   "outputs": [
    {
     "name": "stdout",
     "output_type": "stream",
     "text": [
      "[[1 4 5]\n",
      " [2 8 7]\n",
      " [8 3 7]]\n",
      "sum of array element row-wise is  [10 17 18]\n",
      "sum of array element colum-wise is [11 15 19]\n",
      "min of array row-wise is [1 2 3]\n",
      "max array colum-wise is  [8 8 7]\n"
     ]
    }
   ],
   "source": [
    "mat=np.array([[1,4,5],[2,8,7],[8,3,7]])\n",
    "print(mat)\n",
    "sum=np.sum(mat,axis=1)\n",
    "print(\"sum of array element row-wise is \",sum)\n",
    "sum=np.sum(mat,axis=0)\n",
    "print(\"sum of array element colum-wise is\",sum)\n",
    "min=np.min(mat,axis=1)\n",
    "print(\"min of array row-wise is\",min)\n",
    "max=np.max(mat,axis=0)\n",
    "print(\"max array colum-wise is \",max)\n"
   ]
  },
  {
   "cell_type": "code",
   "execution_count": 1,
   "id": "82f0aaf8",
   "metadata": {},
   "outputs": [
    {
     "data": {
      "text/plain": [
       "9"
      ]
     },
     "execution_count": 1,
     "metadata": {},
     "output_type": "execute_result"
    }
   ],
   "source": [
    "#lambda\n",
    "def sum(a,b):\n",
    "    return a+b\n",
    "\n",
    "sum(4,5)"
   ]
  },
  {
   "cell_type": "code",
   "execution_count": 12,
   "id": "b45427bc",
   "metadata": {},
   "outputs": [
    {
     "data": {
      "text/plain": [
       "64"
      ]
     },
     "execution_count": 12,
     "metadata": {},
     "output_type": "execute_result"
    }
   ],
   "source": [
    "def cube(x):\n",
    "    return x*x*x\n",
    "cube(4)"
   ]
  },
  {
   "cell_type": "code",
   "execution_count": 14,
   "id": "33087d50",
   "metadata": {},
   "outputs": [
    {
     "data": {
      "text/plain": [
       "125"
      ]
     },
     "execution_count": 14,
     "metadata": {},
     "output_type": "execute_result"
    }
   ],
   "source": [
    "lambda_cube=lambda y: y*y*y\n",
    "lambda_cube(5)\n",
    "    "
   ]
  },
  {
   "cell_type": "code",
   "execution_count": 17,
   "id": "ebafe5e1",
   "metadata": {},
   "outputs": [
    {
     "data": {
      "text/plain": [
       "5"
      ]
     },
     "execution_count": 17,
     "metadata": {},
     "output_type": "execute_result"
    }
   ],
   "source": [
    "def greater (a,b):\n",
    "    if a>b:\n",
    "        return a\n",
    "    else:\n",
    "        return b\n",
    "greater (4,5)"
   ]
  },
  {
   "cell_type": "code",
   "execution_count": 18,
   "id": "6ccfcb57",
   "metadata": {},
   "outputs": [
    {
     "data": {
      "text/plain": [
       "[8, 12, 11, 7]"
      ]
     },
     "execution_count": 18,
     "metadata": {},
     "output_type": "execute_result"
    }
   ],
   "source": [
    "#map\n",
    "def add4(x):\n",
    "    return x+4\n",
    "list1=[4,8,7,3]\n",
    "list2=list(map(add4,list1))\n",
    "list2\n"
   ]
  },
  {
   "cell_type": "code",
   "execution_count": 19,
   "id": "8880edca",
   "metadata": {},
   "outputs": [
    {
     "data": {
      "text/plain": [
       "[8, 12, 11, 7]"
      ]
     },
     "execution_count": 19,
     "metadata": {},
     "output_type": "execute_result"
    }
   ],
   "source": [
    "list3=list(map(lambda x:x+4,list1))\n",
    "list3"
   ]
  },
  {
   "cell_type": "code",
   "execution_count": 20,
   "id": "b5118bea",
   "metadata": {},
   "outputs": [
    {
     "data": {
      "text/plain": [
       "['abc_2022', 'def_2022', 'xyz_2022']"
      ]
     },
     "execution_count": 20,
     "metadata": {},
     "output_type": "execute_result"
    }
   ],
   "source": [
    "set_of_strings=['abc','def','xyz']\n",
    "string_map_22=list(map(lambda my_string:my_string +'_2022',set_of_strings))\n",
    "string_map_22"
   ]
  },
  {
   "cell_type": "code",
   "execution_count": 22,
   "id": "9c04b218",
   "metadata": {},
   "outputs": [
    {
     "data": {
      "text/plain": [
       "[4, 6, 0, 4]"
      ]
     },
     "execution_count": 22,
     "metadata": {},
     "output_type": "execute_result"
    }
   ],
   "source": [
    "#filter\n",
    "def oddeven(x):\n",
    "    if x%2==0:\n",
    "        return True\n",
    "    else:\n",
    "        return False\n",
    "list1=[4,5,6,0,4]\n",
    "evenlist=list(filter(oddeven,list1))\n",
    "evenlist"
   ]
  },
  {
   "cell_type": "code",
   "execution_count": 23,
   "id": "2d8ecfd5",
   "metadata": {},
   "outputs": [
    {
     "data": {
      "text/plain": [
       "17"
      ]
     },
     "execution_count": 23,
     "metadata": {},
     "output_type": "execute_result"
    }
   ],
   "source": [
    "#reduce\n",
    "from functools import reduce\n",
    "def sum(x,y):\n",
    "    return x+y\n",
    "list1=[5,9,3]\n",
    "s=reduce(sum,list1)\n",
    "s"
   ]
  },
  {
   "cell_type": "code",
   "execution_count": null,
   "id": "2e5e7fae",
   "metadata": {},
   "outputs": [],
   "source": []
  }
 ],
 "metadata": {
  "kernelspec": {
   "display_name": "Python 3 (ipykernel)",
   "language": "python",
   "name": "python3"
  },
  "language_info": {
   "codemirror_mode": {
    "name": "ipython",
    "version": 3
   },
   "file_extension": ".py",
   "mimetype": "text/x-python",
   "name": "python",
   "nbconvert_exporter": "python",
   "pygments_lexer": "ipython3",
   "version": "3.11.4"
  }
 },
 "nbformat": 4,
 "nbformat_minor": 5
}
